{
 "cells": [
  {
   "cell_type": "code",
   "execution_count": null,
   "metadata": {},
   "outputs": [],
   "source": [
    "import numpy as np\n",
    "\n",
    "\n",
    "def givens_rotation(a, b):\n",
    "    \"\"\"\n",
    "    计算 Givens 旋转矩阵的 cos 和 sin\n",
    "    \"\"\"\n",
    "    if b == 0:\n",
    "        c = 1\n",
    "        s = 0\n",
    "    else:\n",
    "        r = np.hypot(a, b)  # sqrt(a^2 + b^2) 更稳定\n",
    "        c = a / r\n",
    "        s = b / r\n",
    "    return c, s\n",
    "\n",
    "\n",
    "def qr_decomposition_givens(A):\n",
    "    \"\"\"\n",
    "    使用 Givens Rotation 实现矩阵的 QR 分解\n",
    "    \"\"\"\n",
    "    m, n = A.shape\n",
    "    Q = np.eye(m)\n",
    "    R = A.copy()\n",
    "\n",
    "    for j in range(n):  # 遍历列\n",
    "        for i in range(m - 1, j, -1):  # 从底部向上消去\n",
    "            c, s = givens_rotation(R[i - 1, j], R[i, j])\n",
    "\n",
    "            # 构造 Givens 旋转矩阵\n",
    "            G = np.eye(m)\n",
    "            G[i - 1, i - 1] = c\n",
    "            G[i, i] = c\n",
    "            G[i - 1, i] = s\n",
    "            G[i, i - 1] = -s\n",
    "\n",
    "            # 更新 R 和 Q\n",
    "            R = G @ R  # 应用旋转到 R\n",
    "            Q = Q @ G.T  # 累积旋转到 Q.T\n",
    "\n",
    "    return Q, R\n",
    "\n",
    "\n",
    "# 示例\n",
    "A = np.array([[12, -51, 4], [6, 167, -68], [-4, 24, -41]])\n",
    "\n",
    "Q, R = qr_decomposition_givens(A)\n",
    "\n",
    "print(\"Q:\")\n",
    "print(Q)\n",
    "print(\"R:\")\n",
    "print(R)\n",
    "\n",
    "# 验证结果\n",
    "print(\"Reconstructed A:\")\n",
    "print(Q @ R)"
   ]
  },
  {
   "cell_type": "code",
   "execution_count": null,
   "metadata": {},
   "outputs": [],
   "source": [
    "Q.shape"
   ]
  },
  {
   "cell_type": "code",
   "execution_count": null,
   "metadata": {},
   "outputs": [],
   "source": [
    "Q, R = np.linalg.qr(A, mode=\"complete\")"
   ]
  },
  {
   "cell_type": "code",
   "execution_count": null,
   "metadata": {},
   "outputs": [],
   "source": [
    "Q"
   ]
  },
  {
   "cell_type": "code",
   "execution_count": null,
   "metadata": {},
   "outputs": [],
   "source": [
    "R"
   ]
  },
  {
   "cell_type": "code",
   "execution_count": null,
   "metadata": {},
   "outputs": [],
   "source": [
    "Q.shape"
   ]
  },
  {
   "cell_type": "code",
   "execution_count": null,
   "metadata": {},
   "outputs": [],
   "source": [
    "R.shape"
   ]
  },
  {
   "cell_type": "code",
   "execution_count": null,
   "metadata": {},
   "outputs": [],
   "source": []
  }
 ],
 "metadata": {
  "kernelspec": {
   "display_name": ".venv",
   "language": "python",
   "name": "python3"
  },
  "language_info": {
   "codemirror_mode": {
    "name": "ipython",
    "version": 3
   },
   "file_extension": ".py",
   "mimetype": "text/x-python",
   "name": "python",
   "nbconvert_exporter": "python",
   "pygments_lexer": "ipython3",
   "version": "3.10.13"
  }
 },
 "nbformat": 4,
 "nbformat_minor": 2
}
