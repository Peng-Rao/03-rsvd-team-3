{
 "cells": [
  {
   "cell_type": "code",
   "execution_count": null,
   "metadata": {},
   "outputs": [],
   "source": [
    "import numpy as np"
   ]
  },
  {
   "cell_type": "code",
   "execution_count": null,
   "metadata": {},
   "outputs": [],
   "source": [
    "def rsvd(A, rank, power_iterations=3):\n",
    "    \"\"\"\n",
    "    Perform Randomized Singular Value Decomposition (RSVD).\n",
    "\n",
    "    Parameters:\n",
    "        A (np.ndarray): Input matrix.\n",
    "        rank (int): Target rank for the approximation.\n",
    "        power_iterations (int): Number of power iterations to enhance accuracy.\n",
    "\n",
    "    Returns:\n",
    "        u (np.ndarray): Left singular vectors.\n",
    "        s (np.ndarray): Singular values.\n",
    "        v (np.ndarray): Right singular vectors (transposed).\n",
    "    \"\"\"\n",
    "    # Step 1: Generate a random matrix Omega\n",
    "    n_rows, n_cols = A.shape\n",
    "    Omega = np.random.randn(n_cols, rank)\n",
    "\n",
    "    # Step 2: Perform power iteration\n",
    "    Y = A @ Omega\n",
    "    for _ in range(power_iterations):\n",
    "        Y = A @ (A.T @ Y)\n",
    "\n",
    "    # Step 3: Compute orthogonal matrix Q\n",
    "    Q, _ = np.linalg.qr(Y)\n",
    "\n",
    "    # Step 4: Project A onto the low-dimensional subspace\n",
    "    B = Q.T @ A\n",
    "\n",
    "    # Step 5: Compute SVD on the smaller matrix B\n",
    "    u_tilde, s, v = np.linalg.svd(B, full_matrices=False)\n",
    "\n",
    "    # Step 6: Recover the left singular vectors of A\n",
    "    u = Q @ u_tilde\n",
    "\n",
    "    return u, s, v"
   ]
  },
  {
   "cell_type": "code",
   "execution_count": null,
   "metadata": {},
   "outputs": [],
   "source": [
    "import time\n",
    "\n",
    "# Generate a 3000 x 3000 random matrix\n",
    "np.random.seed(42)  # For reproducibility\n",
    "A = np.random.rand(3000, 3000)\n",
    "\n",
    "# Set target rank and measure execution time\n",
    "rank = 100  # Target rank\n",
    "start_time = time.time()\n",
    "u, s, v = rsvd(A, rank)\n",
    "end_time = time.time()\n",
    "\n",
    "execution_time = end_time - start_time\n",
    "execution_time"
   ]
  },
  {
   "cell_type": "code",
   "execution_count": null,
   "metadata": {},
   "outputs": [],
   "source": [
    "# Compute the error by comparing the reconstructed matrix with the original\n",
    "A_approx = u[:, :rank] @ np.diag(s[:rank]) @ v[:rank, :]\n",
    "error = np.linalg.norm(A - A_approx, ord=\"fro\") / np.linalg.norm(A, ord=\"fro\")\n",
    "error\n"
   ]
  },
  {
   "cell_type": "code",
   "execution_count": null,
   "metadata": {},
   "outputs": [],
   "source": []
  }
 ],
 "metadata": {
  "kernelspec": {
   "display_name": ".venv",
   "language": "python",
   "name": "python3"
  },
  "language_info": {
   "codemirror_mode": {
    "name": "ipython",
    "version": 3
   },
   "file_extension": ".py",
   "mimetype": "text/x-python",
   "name": "python",
   "nbconvert_exporter": "python",
   "pygments_lexer": "ipython3",
   "version": "3.10.13"
  }
 },
 "nbformat": 4,
 "nbformat_minor": 2
}
